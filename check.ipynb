{
 "cells": [
  {
   "cell_type": "code",
   "execution_count": 1,
   "id": "dfe29e73",
   "metadata": {},
   "outputs": [],
   "source": [
    "import json\n",
    "import re\n",
    "import unicodedata\n",
    "\n",
    "i = 3\n",
    "\n",
    "# -----------GET DATA FROM TXT----------\n",
    "\n",
    "with open(f\"test/test{i}.txt\", \"r\", encoding=\"utf-8\") as f:\n",
    "    text = f.read()\n",
    "\n",
    "def clean_word(word: str) -> str:\n",
    "    \"\"\"Làm sạch 1 từ (dành cho tiếng Anh).\"\"\"\n",
    "    word = word.lower().strip()\n",
    "    word = unicodedata.normalize(\"NFKD\", word)\n",
    "    word = word.replace(\"’\", \"'\").replace(\"–\", \"-\").replace(\"—\", \"-\")\n",
    "    word = re.sub(r\"[^\\w\\s']\", \"\", word)\n",
    "    word = word.replace(\"'\", \"\")\n",
    "    return word\n",
    "\n",
    "\n",
    "def split_into_paragraph_sentences(text: str):\n",
    "    \"\"\"\n",
    "    Tách đoạn văn thành mảng 2 chiều:\n",
    "    - Mỗi đoạn (ngăn cách bởi dòng trống) là một mảng con.\n",
    "    - Mỗi mảng con chứa các câu (ngăn cách bởi ., !, ?, hoặc xuống dòng).\n",
    "    \"\"\"\n",
    "    # Chuẩn hóa newline\n",
    "    t = text.replace('\\r\\n', '\\n').replace('\\r', '\\n').strip()\n",
    "\n",
    "    # Chia đoạn theo dòng trống (ít nhất 1 dòng trống)\n",
    "    paragraphs = re.split(r'\\n\\s*\\n+', t)\n",
    "    paragraphs = [p.strip() for p in paragraphs if p.strip()]\n",
    "\n",
    "    sentences_in_para = []\n",
    "    sentences = []\n",
    "    for p in paragraphs:\n",
    "        # Xóa khoảng trắng trước dấu câu\n",
    "        p = re.sub(r'\\s+([.!?])', r'\\1', p)\n",
    "\n",
    "        # Chèn mốc sau dấu câu\n",
    "        p = re.sub(r'([.!?])', r'\\1<S>', p)\n",
    "\n",
    "        # Gom nhiều khoảng trắng thành 1\n",
    "        p = re.sub(r'[ \\t]+', ' ', p)\n",
    "\n",
    "        # Tách thành danh sách câu\n",
    "        sens = [s.strip() for s in p.split('<S>') if s.strip()]\n",
    "        sentences_in_para.append(sens)\n",
    "        sentences.extend(sens)\n",
    "    return paragraphs, sentences_in_para, sentences\n"
   ]
  },
  {
   "cell_type": "code",
   "execution_count": 3,
   "id": "8b28fd40",
   "metadata": {},
   "outputs": [
    {
     "name": "stdout",
     "output_type": "stream",
     "text": [
      "1\n"
     ]
    }
   ],
   "source": [
    "paragraphs, sentences_in_para, sentences = split_into_paragraph_sentences(text)\n",
    "print(len(paragraphs))"
   ]
  },
  {
   "cell_type": "code",
   "execution_count": 4,
   "id": "f364cb61",
   "metadata": {},
   "outputs": [
    {
     "name": "stdout",
     "output_type": "stream",
     "text": [
      "[\"Hello this is Jack from tofluency.com and in this video\\nI'm going to talk about a process vs\\nan event and why this is relevant\\nto learning English. So, keep watching!\\nThink of a famous football player, for example\\nLionel Messi or Cristiano Ronaldo\\nWhen we think about these football players, it's very easy to see their skills\\nAnd how they have benefited\\nfrom the skills, like the beautiful wives\\nthe big cars, all the money, and the fame\\nbut what we don't see is how they got there\\nwe don't see what they did and what they continue to do\\non a daily basis to have that really\\nhigh-level of skill. This is the same\\nfor English learning too - when you see somebody\\nwho is a non-native speaker speak fluently\\nunderstand what they hear and have lots of confidence when they speak\\nthat's what we see, but again we don't see\\nwhat they did and what they continue to do\\non a daily basis to have that high-level\\nthis is important because having a high level of English\\ndoesn't just happen overnight - it is not\\njust an event - instead it is the result\\nof a process; the result of doing the right things\\non a daily basis - and when you focus\\non this process and make the changes you need to make\\nto create the environment and habits of doing the right things\\nthis is when you will start making real progress\\nthat is why I say it's all about the journey - it's all about the journey\\nto fluency and having as much fun as possible\\nduring this journey. So, make the changes you need to make\\nto reach a high level; get into the routine of learning English\\nand get into the habit of using English. If you have\\nany questions about this, leave them below the video\\nand also leave me a comment telling me\\nhow you going to get into the habit of using English\\nevery day. Thanks for watching and I'll see you next time!\"]\n"
     ]
    }
   ],
   "source": [
    "print(paragraphs)"
   ]
  },
  {
   "cell_type": "code",
   "execution_count": null,
   "id": "ecf16218",
   "metadata": {},
   "outputs": [],
   "source": []
  }
 ],
 "metadata": {
  "kernelspec": {
   "display_name": "base",
   "language": "python",
   "name": "python3"
  },
  "language_info": {
   "codemirror_mode": {
    "name": "ipython",
    "version": 3
   },
   "file_extension": ".py",
   "mimetype": "text/x-python",
   "name": "python",
   "nbconvert_exporter": "python",
   "pygments_lexer": "ipython3",
   "version": "3.12.7"
  }
 },
 "nbformat": 4,
 "nbformat_minor": 5
}
